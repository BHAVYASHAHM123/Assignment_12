{
  "nbformat": 4,
  "nbformat_minor": 0,
  "metadata": {
    "colab": {
      "name": "Assignment_12.ipynb",
      "provenance": []
    },
    "kernelspec": {
      "name": "python3",
      "display_name": "Python 3"
    },
    "language_info": {
      "name": "python"
    }
  },
  "cells": [
    {
      "cell_type": "code",
      "execution_count": null,
      "metadata": {
        "id": "VtHkG5G1ILN5"
      },
      "outputs": [],
      "source": [
        ""
      ]
    },
    {
      "cell_type": "markdown",
      "source": [
        "Q1). Does assigning a value to a string's indexed character violate Python's string immutability?\n",
        "\n",
        "Ans) a string is immutable. You cannot overwrite the values of immutable objects."
      ],
      "metadata": {
        "id": "5JA63hajIPQw"
      }
    },
    {
      "cell_type": "markdown",
      "source": [
        "Q2). Does using the += operator to concatenate strings violate Python's string immutability? Why or why not?\n",
        "\n",
        "Ans) The in-place operator += can also be used. The string on the right is concatenated after the string variable on the left. "
      ],
      "metadata": {
        "id": "ycULNUyaIPTS"
      }
    },
    {
      "cell_type": "markdown",
      "source": [
        "Q3. In Python, how many different ways are there to index a character?\n",
        "\n",
        "Ans) The INDEXOF function allows for two string values to be used and returns the index of the second value within the first value. "
      ],
      "metadata": {
        "id": "G_PN6QhIIPV4"
      }
    },
    {
      "cell_type": "markdown",
      "source": [
        "Q4). What is the relationship between indexing and slicing?\n",
        "\n",
        "Ans) Indexing is used to obtain individual elements. Slicing: Slicing is used to obtain a sequence of elements"
      ],
      "metadata": {
        "id": "mGw6tun_IPYd"
      }
    },
    {
      "cell_type": "markdown",
      "source": [
        "Q5). What is an indexed character's exact data type? What is the data form of a slicing-generated substring?\n",
        "\n",
        "Ans) Indexing allows you to access individual characters in a string directly by using a numeric value.\n",
        "nstead of just one value being put in the square brackets, you put two with a colon ( : ) in between the two"
      ],
      "metadata": {
        "id": "myc1rM9rIPbL"
      }
    },
    {
      "cell_type": "markdown",
      "source": [
        "Q6. What is the relationship between string and character &quot;types&quot; in Python?\n",
        "\n",
        "Ans) Character refers to a single letter, number, space, punctuation mark or a symbol that can be represented using a computer while String refers to a set of characters."
      ],
      "metadata": {
        "id": "j_9c-zLmIPdw"
      }
    },
    {
      "cell_type": "markdown",
      "source": [
        "Q7. Identify at least two operators and one method that allow you to combine one or more smaller strings to create a larger string.\n",
        "\n",
        "Ans) The most common among them is using the plus (“+”) operator. You can combine both string variables and string literals using the “+” operator. However, there's another method that allows an easy way of concatenating multiple strings. It is using the in-place (+=) operator."
      ],
      "metadata": {
        "id": "qbLMuC-IIPgW"
      }
    },
    {
      "cell_type": "markdown",
      "source": [
        "Q8. What is the benefit of first checking the target string with in or not in before using the index method to find a substring?\n",
        "\n",
        "Ans) The indexOf() method returns the position of the first occurrence of specified character(s) in a string. "
      ],
      "metadata": {
        "id": "s2HiyPahIPjD"
      }
    },
    {
      "cell_type": "markdown",
      "source": [
        "Q9). Which operators and built-in string methods produce simple Boolean (true/false) results?\n",
        "\n",
        "Ans) The AND operator (&& or \"and\")\n",
        "The OR operator (|| or \"or\")\n",
        "The NOT operator (not)"
      ],
      "metadata": {
        "id": "oeIk6hNQIPll"
      }
    },
    {
      "cell_type": "markdown",
      "source": [
        ""
      ],
      "metadata": {
        "id": "s4Sy3KC7IPoX"
      }
    },
    {
      "cell_type": "markdown",
      "source": [
        ""
      ],
      "metadata": {
        "id": "4-4fRvV9IPq9"
      }
    },
    {
      "cell_type": "markdown",
      "source": [
        ""
      ],
      "metadata": {
        "id": "5MUVu46GIPui"
      }
    }
  ]
}